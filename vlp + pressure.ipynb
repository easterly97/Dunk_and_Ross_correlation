{
 "cells": [
  {
   "cell_type": "code",
   "execution_count": 1,
   "metadata": {},
   "outputs": [],
   "source": [
    "from formula import *"
   ]
  },
  {
   "cell_type": "markdown",
   "metadata": {},
   "source": [
    "Из Юпитера программа не видит данные переменные, поэтому если нужно будет поменять какой-то параметр, это необходимо будет делать прямо в коде программы (formula.py)"
   ]
  },
  {
   "cell_type": "code",
   "execution_count": 2,
   "metadata": {},
   "outputs": [],
   "source": [
    "# # Исходные данные ---------------------------------\n",
    "\n",
    "# # Плотность жидкости в поверхностных условиях, кг/м3\n",
    "# dencity_of_liquid = 762.64\n",
    "# # Плотность воды в поверхностных условиях, кг/м3\n",
    "# dencity_of_water = 1000\n",
    "# # Плотность газа в поверхностных условиях, кг/м3\n",
    "# dencity_of_gas = 20\n",
    "# # Удельная плотность газа в поверхностных условиях\n",
    "# relative_density_of_gas = 0.4\n",
    "\n",
    "# # Вязкость жидкости, Па*с\n",
    "# viscosity_of_liquid = 0.00097\n",
    "# # Вязкость газа, Па*с\n",
    "# viscosity_of_gas = 0.000016\n",
    "# g = 9.8\n",
    "# # Поверхностное натяжение жидкости\n",
    "# superficial_tencion_of_liquid = 0.00841\n",
    "\n",
    "# # Устьевая температура, град.К\n",
    "# well_head_temperature = 15 + 273\n",
    "# # Пластовая температура, град.К\n",
    "# strata_temperature = 100 + 273\n",
    "\n",
    "# # Длина НКТ, м\n",
    "# length_tube = 2000\n",
    "# # Диаметр НКТ, м\n",
    "# inner_diameter = 0.152\n",
    "# # Абсолютная шероховатость\n",
    "# epsilon = 0.000018288\n",
    "\n",
    "# # Площадь поперечного сечения, м2\n",
    "# Ap = 3.14 / 4 * inner_diameter ** 2\n",
    "# # Удельная плотность дегазрованной нефти\n",
    "# relative_density_of_oil = dencity_of_liquid / dencity_of_water\n",
    "# # Плотность нефти в API\n",
    "# specific_gravity_oil = 141.5 / relative_density_of_oil - 131.5\n",
    "# # -------------------------------------------------\n",
    "\n",
    "# # Дебит жидкости в поверхностных условиях, м3/сут\n",
    "# q_of_liquid_surface = 150\n",
    "# # Дебит газа в поверхностных условиях, тыс.м3/сут\n",
    "# q_of_gas_surface = 200\n",
    "# # Устьевое давление (при расчете забойного), бар\n",
    "# top_hole_pressure = 30\n",
    "# # Забойное давление (при расчете устьевого), бар\n",
    "# bottom_hole_pressure = 60\n",
    "# # Шаг расчета, м\n",
    "# step_of_calc = 20"
   ]
  },
  {
   "cell_type": "markdown",
   "metadata": {},
   "source": [
    "## Расчет забойного давления\n",
    "Если в исходных данных указано устьвое давление, то алгоритм рассчитывает забойное давление.\n",
    "В противном случае рассчитывается устьевое давление."
   ]
  },
  {
   "cell_type": "code",
   "execution_count": 3,
   "metadata": {},
   "outputs": [
    {
     "name": "stdout",
     "output_type": "stream",
     "text": [
      "Забойное давление равно =  88.88 бар\n"
     ]
    }
   ],
   "source": [
    "# Дебит жидкости в поверхностных условиях, м3/сут\n",
    "q_of_liquid_surface = 150 \n",
    "# Длина НКТ, м\n",
    "length_tube = 2000\n",
    "# Шаг расчета, м\n",
    "step_of_calc = 20\n",
    "# Забойное давление (при расчете устьевого), бар\n",
    "bottom_hole_pressure = 100\n",
    "# Устьевое давление (при расчете забойного), бар\n",
    "top_hole_pressure = 30\n",
    "\n",
    "current_pressure, depth_list, pressure_list = calc_pressure(q_of_liquid_surface, bottom_hole_pressure, length_tube, step_of_calc, top_hole_pressure)\n",
    "print('Забойное давление равно = ', round(current_pressure, 2), 'бар')"
   ]
  },
  {
   "cell_type": "markdown",
   "metadata": {},
   "source": [
    "## Расчет устьевого давления\n",
    "Если в исходных данных указано устьвое давление, то алгоритм рассчитывает забойное давление.\n",
    "В противном случае рассчитывается устьевое давление."
   ]
  },
  {
   "cell_type": "code",
   "execution_count": 4,
   "metadata": {},
   "outputs": [
    {
     "name": "stdout",
     "output_type": "stream",
     "text": [
      "Устьевое давление равно =  58.36 бар\n"
     ]
    }
   ],
   "source": [
    "# Дебит жидкости в поверхностных условиях, м3/сут\n",
    "q_of_liquid_surface = 150 \n",
    "# Длина НКТ, м\n",
    "length_tube = 2000\n",
    "# Шаг расчета, м\n",
    "step_of_calc = 20\n",
    "# Забойное давление (при расчете устьевого), бар\n",
    "bottom_hole_pressure = 100\n",
    "# Устьевое давление (при расчете забойного), бар\n",
    "top_hole_pressure = 30\n",
    "\n",
    "current_pressure, depth_list, pressure_list = calc_pressure(q_of_liquid_surface, bottom_hole_pressure, length_tube, step_of_calc)\n",
    "print('Устьевое давление равно = ', round(current_pressure, 2), 'бар')"
   ]
  },
  {
   "cell_type": "markdown",
   "metadata": {},
   "source": [
    "## Построение графика профиля давления"
   ]
  },
  {
   "cell_type": "code",
   "execution_count": 3,
   "metadata": {},
   "outputs": [
    {
     "data": {
      "image/png": "[encoded data removed]",
      "text/plain": [
       "<Figure size 432x288 with 1 Axes>"
      ]
     },
     "metadata": {
      "needs_background": "light"
     },
     "output_type": "display_data"
    }
   ],
   "source": [
    "# Профиль давления от глубины\n",
    "\n",
    "# Дебит жидкости в поверхностных условиях, м3/сут\n",
    "q_of_liquid_surface = 150\n",
    "# Длина НКТ, м\n",
    "length_tube = 2000\n",
    "# Шаг расчета, м\n",
    "step_of_calc = 20\n",
    "# Забойное давление (при расчете устьевого), бар\n",
    "bottom_hole_pressure = 100\n",
    "# Устьевое давление, бар\n",
    "top_hole_pressure = 30\n",
    "\n",
    "toDrawGraphPressure(q_of_liquid_surface, bottom_hole_pressure, length_tube, step_of_calc, top_hole_pressure)"
   ]
  },
  {
   "cell_type": "markdown",
   "metadata": {},
   "source": [
    "## Построение графика VLP"
   ]
  },
  {
   "cell_type": "code",
   "execution_count": 4,
   "metadata": {},
   "outputs": [
    {
     "data": {
      "image/png": "[encoded data removed]",
      "text/plain": [
       "<Figure size 432x288 with 1 Axes>"
      ]
     },
     "metadata": {
      "needs_background": "light"
     },
     "output_type": "display_data"
    }
   ],
   "source": [
    "# Построение графика VLP\n",
    "\n",
    "# Массив значений дебитов жидкости для расчета\n",
    "production = [25, 50, 75, 100, 125, 150]\n",
    "\n",
    "# Длина НКТ, м\n",
    "length_tube = 2000\n",
    "# Шаг расчета, м\n",
    "step_of_calc = 20\n",
    "# Забойное давление (при расчете устьевого), бар\n",
    "bottom_hole_pressure = 100\n",
    "# Устьевое давление, бар\n",
    "top_hole_pressure = 30\n",
    "\n",
    "to_draw_graph_VLP(production, bottom_hole_pressure, length_tube, step_of_calc, top_hole_pressure)"
   ]
  },
  {
   "cell_type": "code",
   "execution_count": null,
   "metadata": {},
   "outputs": [],
   "source": []
  }
 ],
 "metadata": {
  "kernelspec": {
   "display_name": "Python 3",
   "language": "python",
   "name": "python3"
  },
  "language_info": {
   "codemirror_mode": {
    "name": "ipython",
    "version": 3
   },
   "file_extension": ".py",
   "mimetype": "text/x-python",
   "name": "python",
   "nbconvert_exporter": "python",
   "pygments_lexer": "ipython3",
   "version": "3.7.4"
  }
 },
 "nbformat": 4,
 "nbformat_minor": 2
}
